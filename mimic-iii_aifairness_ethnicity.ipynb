{
 "cells": [
  {
   "cell_type": "markdown",
   "metadata": {},
   "source": [
    "Data Preparation\n",
    "\n",
    "Import Libraries and load the MIMIC-III dataset and prepare for further processing."
   ]
  },
  {
   "cell_type": "code",
   "execution_count": 1,
   "metadata": {},
   "outputs": [
    {
     "name": "stderr",
     "output_type": "stream",
     "text": [
      "d:\\Users\\BVaidya\\Anaconda3\\envs\\aigov_pytorch\\lib\\site-packages\\inFairness\\utils\\ndcg.py:37: FutureWarning: We've integrated functorch into PyTorch. As the final step of the integration, `functorch.vmap` is deprecated as of PyTorch 2.0 and will be deleted in a future version of PyTorch >= 2.3. Please use `torch.vmap` instead; see the PyTorch 2.0 release notes and/or the `torch.func` migration guide for more details https://pytorch.org/docs/main/func.migrating.html\n",
      "  vect_normalized_discounted_cumulative_gain = vmap(\n",
      "d:\\Users\\BVaidya\\Anaconda3\\envs\\aigov_pytorch\\lib\\site-packages\\inFairness\\utils\\ndcg.py:48: FutureWarning: We've integrated functorch into PyTorch. As the final step of the integration, `functorch.vmap` is deprecated as of PyTorch 2.0 and will be deleted in a future version of PyTorch >= 2.3. Please use `torch.vmap` instead; see the PyTorch 2.0 release notes and/or the `torch.func` migration guide for more details https://pytorch.org/docs/main/func.migrating.html\n",
      "  monte_carlo_vect_ndcg = vmap(vect_normalized_discounted_cumulative_gain, in_dims=(0,))\n"
     ]
    }
   ],
   "source": [
    "# Import Libraries \n",
    "import pandas as pd\n",
    "import matplotlib.pyplot as plt\n",
    "import numpy as np\n",
    "from IPython.display import Markdown, display\n",
    "\n",
    "from sklearn.preprocessing import StandardScaler\n",
    "from sklearn.model_selection import train_test_split\n",
    "from sklearn.metrics import accuracy_score, classification_report, confusion_matrix\n",
    "from sklearn.ensemble import RandomForestClassifier, VotingClassifier\n",
    "import xgboost as xgb\n",
    "from aif360.datasets import BinaryLabelDataset\n",
    "from aif360.metrics import BinaryLabelDatasetMetric, ClassificationMetric\n",
    "from aif360.algorithms.preprocessing import Reweighing"
   ]
  },
  {
   "cell_type": "code",
   "execution_count": 37,
   "metadata": {},
   "outputs": [],
   "source": [
    "def load_data(filepath, required_columns):\n",
    "    data = pd.read_csv(filepath)\n",
    "    data = data[required_columns]\n",
    "    return data\n",
    "\n",
    "def convert_datetime(data, column):\n",
    "    return pd.to_datetime(data[column])"
   ]
  },
  {
   "cell_type": "code",
   "execution_count": 38,
   "metadata": {},
   "outputs": [],
   "source": [
    "filepath1='mimic-iii-clinical-database-demo-1.4/PATIENTS.csv'\n",
    "filepath2='mimic-iii-clinical-database-demo-1.4/ADMISSIONS.csv'\n",
    "filepath3='mimic-iii-clinical-database-demo-1.4/ICUSTAYS.csv'\n",
    "\n",
    "required_columns1=['subject_id', 'gender', 'dob', 'dod']\n",
    "required_columns2=['subject_id', 'hadm_id', 'ethnicity', 'dischtime']\n",
    "required_columns3=['subject_id', 'hadm_id', 'icustay_id', 'first_careunit', 'last_careunit', 'intime', 'outtime', 'los']"
   ]
  },
  {
   "cell_type": "code",
   "execution_count": 39,
   "metadata": {},
   "outputs": [],
   "source": [
    "# Load the PATIENTS, ADMISSIONS, & ICUSTAYS data from MIMIC-III dataset \n",
    "data_patients = load_data(filepath1, required_columns1)\n",
    "data_admissions = load_data(filepath2, required_columns2)\n",
    "data_icustays = load_data(filepath3, required_columns3)"
   ]
  },
  {
   "cell_type": "code",
   "execution_count": 42,
   "metadata": {},
   "outputs": [
    {
     "data": {
      "text/markdown": [
       "#### Basic Information on PATIENTS"
      ],
      "text/plain": [
       "<IPython.core.display.Markdown object>"
      ]
     },
     "metadata": {},
     "output_type": "display_data"
    },
    {
     "name": "stdout",
     "output_type": "stream",
     "text": [
      "<class 'pandas.core.frame.DataFrame'>\n",
      "RangeIndex: 100 entries, 0 to 99\n",
      "Data columns (total 4 columns):\n",
      " #   Column      Non-Null Count  Dtype         \n",
      "---  ------      --------------  -----         \n",
      " 0   subject_id  100 non-null    int64         \n",
      " 1   gender      100 non-null    object        \n",
      " 2   dob         100 non-null    object        \n",
      " 3   dod         100 non-null    datetime64[ns]\n",
      "dtypes: datetime64[ns](1), int64(1), object(2)\n",
      "memory usage: 3.2+ KB\n",
      "None\n",
      "(100, 4)\n",
      "         subject_id                  dod\n",
      "count    100.000000                  100\n",
      "mean   26162.330000  2151-06-09 17:02:24\n",
      "min    10006.000000  2105-02-16 00:00:00\n",
      "25%    10068.500000  2128-09-12 12:00:00\n",
      "50%    25128.000000  2150-09-01 12:00:00\n",
      "75%    42276.500000  2172-03-18 06:00:00\n",
      "max    44228.000000  2202-12-05 00:00:00\n",
      "std    16201.834705                  NaN\n"
     ]
    },
    {
     "data": {
      "text/markdown": [
       "#### Basic Information on ADMISSIONS"
      ],
      "text/plain": [
       "<IPython.core.display.Markdown object>"
      ]
     },
     "metadata": {},
     "output_type": "display_data"
    },
    {
     "name": "stdout",
     "output_type": "stream",
     "text": [
      "<class 'pandas.core.frame.DataFrame'>\n",
      "RangeIndex: 129 entries, 0 to 128\n",
      "Data columns (total 4 columns):\n",
      " #   Column      Non-Null Count  Dtype         \n",
      "---  ------      --------------  -----         \n",
      " 0   subject_id  129 non-null    int64         \n",
      " 1   hadm_id     129 non-null    int64         \n",
      " 2   ethnicity   129 non-null    object        \n",
      " 3   dischtime   129 non-null    datetime64[ns]\n",
      "dtypes: datetime64[ns](1), int64(2), object(1)\n",
      "memory usage: 4.2+ KB\n",
      "None\n",
      "         subject_id        hadm_id                      dischtime\n",
      "count    129.000000     129.000000                            129\n",
      "mean   28010.410853  152343.441860  2154-04-18 07:15:50.232558592\n",
      "min    10006.000000  100375.000000            2102-09-06 16:20:00\n",
      "25%    10088.000000  128293.000000            2128-11-09 12:00:00\n",
      "50%    40310.000000  157235.000000            2150-08-29 18:20:00\n",
      "75%    42135.000000  174739.000000            2180-03-20 18:00:00\n",
      "max    44228.000000  199395.000000            2202-10-11 16:30:00\n",
      "std    16048.502883   27858.788248                            NaN\n"
     ]
    },
    {
     "data": {
      "text/markdown": [
       "#### Basic Information on ICUSTAYS"
      ],
      "text/plain": [
       "<IPython.core.display.Markdown object>"
      ]
     },
     "metadata": {},
     "output_type": "display_data"
    },
    {
     "name": "stdout",
     "output_type": "stream",
     "text": [
      "<class 'pandas.core.frame.DataFrame'>\n",
      "RangeIndex: 136 entries, 0 to 135\n",
      "Data columns (total 8 columns):\n",
      " #   Column          Non-Null Count  Dtype         \n",
      "---  ------          --------------  -----         \n",
      " 0   subject_id      136 non-null    int64         \n",
      " 1   hadm_id         136 non-null    int64         \n",
      " 2   icustay_id      136 non-null    int64         \n",
      " 3   first_careunit  136 non-null    object        \n",
      " 4   last_careunit   136 non-null    object        \n",
      " 5   intime          136 non-null    datetime64[ns]\n",
      " 6   outtime         136 non-null    datetime64[ns]\n",
      " 7   los             136 non-null    float64       \n",
      "dtypes: datetime64[ns](2), float64(1), int64(3), object(2)\n",
      "memory usage: 8.6+ KB\n",
      "None\n",
      "         subject_id        hadm_id     icustay_id  \\\n",
      "count    136.000000     136.000000     136.000000   \n",
      "mean   28263.485294  153259.566176  250980.470588   \n",
      "min    10006.000000  100375.000000  201006.000000   \n",
      "25%    10089.750000  129028.000000  224359.250000   \n",
      "50%    40307.000000  157724.000000  250055.000000   \n",
      "75%    42207.000000  174896.500000  277279.250000   \n",
      "max    44228.000000  199395.000000  298685.000000   \n",
      "std    16008.281510   28054.220280   28455.125832   \n",
      "\n",
      "                              intime                        outtime  \\\n",
      "count                            136                            136   \n",
      "mean   2154-04-03 10:35:36.176470016  2154-04-07 21:27:08.816177152   \n",
      "min              2102-08-31 17:04:12            2102-09-01 20:19:42   \n",
      "25%    2128-09-08 22:29:23.249999872  2128-09-09 22:55:46.250000384   \n",
      "50%    2151-02-16 14:57:55.000000512            2151-02-20 19:24:34   \n",
      "75%    2180-04-16 06:40:47.000000512  2180-04-19 14:07:41.249999872   \n",
      "max              2202-10-03 01:46:32            2202-10-04 17:07:38   \n",
      "std                              NaN                            NaN   \n",
      "\n",
      "              los  \n",
      "count  136.000000  \n",
      "mean     4.452457  \n",
      "min      0.105900  \n",
      "25%      1.233525  \n",
      "50%      2.111450  \n",
      "75%      4.329050  \n",
      "max     35.406500  \n",
      "std      6.196828  \n"
     ]
    }
   ],
   "source": [
    "# Display basic information about the dataset\n",
    "display(Markdown(\"#### Basic Information on PATIENTS\"))\n",
    "print(data_patients.shape)\n",
    "print(data_patients.info())\n",
    "print(data_patients.describe())\n",
    "\n",
    "display(Markdown(\"#### Basic Information on ADMISSIONS\"))\n",
    "print(data_admissions.shape)\n",
    "print(data_admissions.info())\n",
    "print(data_admissions.describe())\n",
    "\n",
    "display(Markdown(\"#### Basic Information on ICUSTAYS\"))\n",
    "print(data_icustays.shape)\n",
    "print(data_icustays.info())\n",
    "print(data_icustays.describe())"
   ]
  },
  {
   "cell_type": "code",
   "execution_count": 43,
   "metadata": {},
   "outputs": [],
   "source": [
    "# Convert datetime columns\n",
    "data_patients['dod'] = convert_datetime(data_patients, 'dod')\n",
    "data_admissions['dischtime'] = convert_datetime(data_admissions, 'dischtime')\n",
    "data_icustays['intime'] = convert_datetime(data_icustays, 'intime')\n",
    "data_icustays['outtime'] = convert_datetime(data_icustays, 'outtime')"
   ]
  },
  {
   "cell_type": "code",
   "execution_count": 67,
   "metadata": {},
   "outputs": [
    {
     "data": {
      "text/markdown": [
       "#### Display first few rows of data_patients"
      ],
      "text/plain": [
       "<IPython.core.display.Markdown object>"
      ]
     },
     "metadata": {},
     "output_type": "display_data"
    },
    {
     "name": "stdout",
     "output_type": "stream",
     "text": [
      "   subject_id gender                  dob        dod\n",
      "0       10006      F  2094-03-05 00:00:00 2165-08-12\n",
      "1       10011      F  2090-06-05 00:00:00 2126-08-28\n",
      "2       10013      F  2038-09-03 00:00:00 2125-10-07\n",
      "3       10017      F  2075-09-21 00:00:00 2152-09-12\n",
      "4       10019      M  2114-06-20 00:00:00 2163-05-15\n"
     ]
    },
    {
     "data": {
      "text/markdown": [
       "#### Display first few rows of data_admissions"
      ],
      "text/plain": [
       "<IPython.core.display.Markdown object>"
      ]
     },
     "metadata": {},
     "output_type": "display_data"
    },
    {
     "name": "stdout",
     "output_type": "stream",
     "text": [
      "   subject_id  hadm_id               ethnicity           dischtime\n",
      "0       10006   142345  BLACK/AFRICAN AMERICAN 2164-11-01 17:15:00\n",
      "1       10011   105331   UNKNOWN/NOT SPECIFIED 2126-08-28 18:59:00\n",
      "2       10013   165520   UNKNOWN/NOT SPECIFIED 2125-10-07 15:13:00\n",
      "3       10017   199207                   WHITE 2149-06-03 18:42:00\n",
      "4       10019   177759                   WHITE 2163-05-15 12:00:00\n"
     ]
    },
    {
     "data": {
      "text/markdown": [
       "#### Display first few rows of data_icustays"
      ],
      "text/plain": [
       "<IPython.core.display.Markdown object>"
      ]
     },
     "metadata": {},
     "output_type": "display_data"
    },
    {
     "name": "stdout",
     "output_type": "stream",
     "text": [
      "   subject_id  hadm_id  icustay_id first_careunit last_careunit  \\\n",
      "0       10006   142345      206504           MICU          MICU   \n",
      "1       10011   105331      232110           MICU          MICU   \n",
      "2       10013   165520      264446           MICU          MICU   \n",
      "3       10017   199207      204881            CCU           CCU   \n",
      "4       10019   177759      228977           MICU          MICU   \n",
      "\n",
      "               intime             outtime      los  \n",
      "0 2164-10-23 21:10:15 2164-10-25 12:21:07   1.6325  \n",
      "1 2126-08-14 22:34:00 2126-08-28 18:59:00  13.8507  \n",
      "2 2125-10-04 23:38:00 2125-10-07 15:13:52   2.6499  \n",
      "3 2149-05-29 18:52:29 2149-05-31 22:19:17   2.1436  \n",
      "4 2163-05-14 20:43:56 2163-05-16 03:47:04   1.2938  \n"
     ]
    }
   ],
   "source": [
    "# Display the first few rows of datasets\n",
    "display(Markdown(\"#### Display first few rows of data_patients\"))\n",
    "print(data_patients.head())\n",
    "display(Markdown(\"#### Display first few rows of data_admissions\"))\n",
    "print(data_admissions.head())\n",
    "display(Markdown(\"#### Display first few rows of data_icustays\"))\n",
    "print(data_icustays.head())"
   ]
  },
  {
   "cell_type": "code",
   "execution_count": 68,
   "metadata": {},
   "outputs": [],
   "source": [
    "# Merge ICUSTAYS with ADMISSIONS on subject_id and hadm_id\n",
    "merged_df = data_icustays.merge(data_admissions[['subject_id', 'hadm_id', 'ethnicity', 'dischtime']], on=['subject_id', 'hadm_id'], how='left')\n",
    "\n",
    "# Merge with PATIENTS on subject_id to get date of death (dod)\n",
    "merged_df = merged_df.merge(data_patients[['subject_id', 'dod']], on='subject_id', how='left')"
   ]
  },
  {
   "cell_type": "code",
   "execution_count": 69,
   "metadata": {},
   "outputs": [
    {
     "data": {
      "text/markdown": [
       "#### Basic Information on merged_df"
      ],
      "text/plain": [
       "<IPython.core.display.Markdown object>"
      ]
     },
     "metadata": {},
     "output_type": "display_data"
    },
    {
     "name": "stdout",
     "output_type": "stream",
     "text": [
      "<class 'pandas.core.frame.DataFrame'>\n",
      "RangeIndex: 136 entries, 0 to 135\n",
      "Data columns (total 11 columns):\n",
      " #   Column          Non-Null Count  Dtype         \n",
      "---  ------          --------------  -----         \n",
      " 0   subject_id      136 non-null    int64         \n",
      " 1   hadm_id         136 non-null    int64         \n",
      " 2   icustay_id      136 non-null    int64         \n",
      " 3   first_careunit  136 non-null    object        \n",
      " 4   last_careunit   136 non-null    object        \n",
      " 5   intime          136 non-null    datetime64[ns]\n",
      " 6   outtime         136 non-null    datetime64[ns]\n",
      " 7   los             136 non-null    float64       \n",
      " 8   ethnicity       136 non-null    object        \n",
      " 9   dischtime       136 non-null    datetime64[ns]\n",
      " 10  dod             136 non-null    datetime64[ns]\n",
      "dtypes: datetime64[ns](4), float64(1), int64(3), object(3)\n",
      "memory usage: 11.8+ KB\n",
      "None\n",
      "         subject_id        hadm_id     icustay_id  \\\n",
      "count    136.000000     136.000000     136.000000   \n",
      "mean   28263.485294  153259.566176  250980.470588   \n",
      "min    10006.000000  100375.000000  201006.000000   \n",
      "25%    10089.750000  129028.000000  224359.250000   \n",
      "50%    40307.000000  157724.000000  250055.000000   \n",
      "75%    42207.000000  174896.500000  277279.250000   \n",
      "max    44228.000000  199395.000000  298685.000000   \n",
      "std    16008.281510   28054.220280   28455.125832   \n",
      "\n",
      "                              intime                        outtime  \\\n",
      "count                            136                            136   \n",
      "mean   2154-04-03 10:35:36.176470016  2154-04-07 21:27:08.816177152   \n",
      "min              2102-08-31 17:04:12            2102-09-01 20:19:42   \n",
      "25%    2128-09-08 22:29:23.249999872  2128-09-09 22:55:46.250000384   \n",
      "50%    2151-02-16 14:57:55.000000512            2151-02-20 19:24:34   \n",
      "75%    2180-04-16 06:40:47.000000512  2180-04-19 14:07:41.249999872   \n",
      "max              2202-10-03 01:46:32            2202-10-04 17:07:38   \n",
      "std                              NaN                            NaN   \n",
      "\n",
      "              los                      dischtime  \\\n",
      "count  136.000000                            136   \n",
      "mean     4.452457  2154-04-12 04:25:00.882353152   \n",
      "min      0.105900            2102-09-06 16:20:00   \n",
      "25%      1.233525            2128-09-13 01:45:00   \n",
      "50%      2.111450            2151-02-22 06:40:00   \n",
      "75%      4.329050            2180-04-20 04:45:00   \n",
      "max     35.406500            2202-10-11 16:30:00   \n",
      "std      6.196828                            NaN   \n",
      "\n",
      "                                 dod  \n",
      "count                            136  \n",
      "mean   2155-03-10 09:21:10.588235776  \n",
      "min              2105-02-16 00:00:00  \n",
      "25%              2128-09-12 12:00:00  \n",
      "50%              2152-03-14 12:00:00  \n",
      "75%              2181-07-07 12:00:00  \n",
      "max              2202-12-05 00:00:00  \n",
      "std                              NaN  \n"
     ]
    }
   ],
   "source": [
    "# Display basic information about the dataset\n",
    "display(Markdown(\"#### Basic Information on merged data\"))\n",
    "print(merged_df.info())\n",
    "print(merged_df.describe())"
   ]
  },
  {
   "cell_type": "code",
   "execution_count": 47,
   "metadata": {},
   "outputs": [],
   "source": [
    "# Define survival status\n",
    "\"\"\"\n",
    "Survival status: 1 if the patient died within the ICU stay, 0 otherwise\n",
    "Note: Patients who have a dod and it is before or equal to outtime are considered non-survivors\n",
    "\"\"\"\n",
    "merged_df['survival'] = ((merged_df['dod'].isna()) | (merged_df['dod'] > merged_df['outtime'])).astype(int)"
   ]
  },
  {
   "cell_type": "markdown",
   "metadata": {},
   "source": [
    "Clean and Preprocess the Data\n",
    "\n",
    "We shall clean and preprocess the MIMIC-III dataset. \n",
    "This project focuses on predicting patient mortality, a common task in clinical informatics.\n"
   ]
  },
  {
   "cell_type": "code",
   "execution_count": 48,
   "metadata": {},
   "outputs": [],
   "source": [
    "# Combine all non-white ethnicities into a single 'ethnicity_NON-WHITE' category\n",
    "def create_non_white_column(df):\n",
    "    non_white_cols = [\n",
    "        'ethnicity_AMERICAN INDIAN/ALASKA NATIVE FEDERALLY RECOGNIZED TRIBE',\n",
    "        'ethnicity_ASIAN', 'ethnicity_BLACK/AFRICAN AMERICAN',\n",
    "        'ethnicity_HISPANIC OR LATINO',\n",
    "        'ethnicity_HISPANIC/LATINO - PUERTO RICAN', 'ethnicity_OTHER',\n",
    "        'ethnicity_UNABLE TO OBTAIN', 'ethnicity_UNKNOWN/NOT SPECIFIED'\n",
    "    ]\n",
    "    df['ethnicity_NON-WHITE'] = df[non_white_cols].sum(axis=1)\n",
    "    df['ethnicity_NON-WHITE'] = df['ethnicity_NON-WHITE'].apply(lambda x: 1 if x > 0 else 0)\n",
    "    return df"
   ]
  },
  {
   "cell_type": "code",
   "execution_count": 49,
   "metadata": {},
   "outputs": [],
   "source": [
    "# Preprocess the data\n",
    "def preprocess_data(df, features):\n",
    "\n",
    "    # Dataframe with selected features\n",
    "    preprocessed_df = df[features]\n",
    "\n",
    "    # Handle categorical variables\n",
    "    preprocessed_df = pd.get_dummies(preprocessed_df, columns=['first_careunit', 'last_careunit', 'ethnicity'])\n",
    "    preprocessed_df = create_non_white_column(preprocessed_df)\n",
    "\n",
    "    # Split into features and target\n",
    "    X = preprocessed_df.drop(columns=['subject_id', 'hadm_id', 'icustay_id', 'survival'])\n",
    "    y = preprocessed_df['survival']\n",
    "    X_train, X_test, y_train, y_test = train_test_split(X, y, test_size=0.2, random_state=42)\n",
    "\n",
    "    # Standardize numerical features\n",
    "    scaler = StandardScaler()\n",
    "    X_train_scaled = scaler.fit_transform(X_train)\n",
    "    X_test_scaled = scaler.transform(X_test)\n",
    "\n",
    "    return X_train_scaled, X_test_scaled, y_train, y_test, X_train, X_test, preprocessed_df"
   ]
  },
  {
   "cell_type": "code",
   "execution_count": 50,
   "metadata": {},
   "outputs": [],
   "source": [
    "# Select relevant features\n",
    "features = ['subject_id', 'hadm_id', 'icustay_id', 'first_careunit', 'last_careunit', 'los', 'ethnicity', 'survival']\n",
    "\n",
    "X_train_scaled, X_test_scaled, y_train, y_test, X_train, X_test, preprocessed_df = preprocess_data(merged_df, features)"
   ]
  },
  {
   "cell_type": "code",
   "execution_count": 112,
   "metadata": {},
   "outputs": [
    {
     "data": {
      "text/markdown": [
       "#### Distribution of Ethnicities in the Train Set:"
      ],
      "text/plain": [
       "<IPython.core.display.Markdown object>"
      ]
     },
     "metadata": {},
     "output_type": "display_data"
    },
    {
     "name": "stdout",
     "output_type": "stream",
     "text": [
      "ethnicity_WHITE        70\n",
      "ethnicity_NON-WHITE    38\n",
      "dtype: int64\n"
     ]
    },
    {
     "data": {
      "text/markdown": [
       "#### Distribution of Ethnicities in the Test Set:"
      ],
      "text/plain": [
       "<IPython.core.display.Markdown object>"
      ]
     },
     "metadata": {},
     "output_type": "display_data"
    },
    {
     "name": "stdout",
     "output_type": "stream",
     "text": [
      "ethnicity_WHITE        22\n",
      "ethnicity_NON-WHITE     6\n",
      "dtype: int64\n"
     ]
    }
   ],
   "source": [
    "display(Markdown(\"#### Distribution of Ethnicities in the Train Set:\"))\n",
    "print(X_train[['ethnicity_WHITE', 'ethnicity_NON-WHITE']].sum())\n",
    "\n",
    "display(Markdown(\"#### Distribution of Ethnicities in the Test Set:\"))\n",
    "print(X_test[['ethnicity_WHITE', 'ethnicity_NON-WHITE']].sum())"
   ]
  },
  {
   "cell_type": "code",
   "execution_count": 52,
   "metadata": {},
   "outputs": [
    {
     "name": "stdout",
     "output_type": "stream",
     "text": [
      "Index(['los', 'first_careunit_CCU', 'first_careunit_CSRU',\n",
      "       'first_careunit_MICU', 'first_careunit_SICU', 'first_careunit_TSICU',\n",
      "       'last_careunit_CCU', 'last_careunit_CSRU', 'last_careunit_MICU',\n",
      "       'last_careunit_SICU', 'last_careunit_TSICU',\n",
      "       'ethnicity_AMERICAN INDIAN/ALASKA NATIVE FEDERALLY RECOGNIZED TRIBE',\n",
      "       'ethnicity_ASIAN', 'ethnicity_BLACK/AFRICAN AMERICAN',\n",
      "       'ethnicity_HISPANIC OR LATINO',\n",
      "       'ethnicity_HISPANIC/LATINO - PUERTO RICAN', 'ethnicity_OTHER',\n",
      "       'ethnicity_UNABLE TO OBTAIN', 'ethnicity_UNKNOWN/NOT SPECIFIED',\n",
      "       'ethnicity_WHITE', 'ethnicity_NON-WHITE'],\n",
      "      dtype='object')\n",
      "y_train : \n",
      " 11     0\n",
      "68     1\n",
      "129    1\n",
      "76     1\n",
      "84     1\n",
      "Name: survival, dtype: int32\n",
      "X_test: \n",
      "         los  first_careunit_CCU  first_careunit_CSRU  first_careunit_MICU  \\\n",
      "73   2.4872                True                False                False   \n",
      "45   4.7333                True                False                False   \n",
      "60   3.7516                True                False                False   \n",
      "42   1.9231               False                False                 True   \n",
      "128  1.3153               False                 True                False   \n",
      "\n",
      "     first_careunit_SICU  first_careunit_TSICU  last_careunit_CCU  \\\n",
      "73                 False                 False               True   \n",
      "45                 False                 False               True   \n",
      "60                 False                 False               True   \n",
      "42                 False                 False              False   \n",
      "128                False                 False              False   \n",
      "\n",
      "     last_careunit_CSRU  last_careunit_MICU  last_careunit_SICU  ...  \\\n",
      "73                False               False               False  ...   \n",
      "45                False               False               False  ...   \n",
      "60                False               False               False  ...   \n",
      "42                False                True               False  ...   \n",
      "128                True               False               False  ...   \n",
      "\n",
      "     ethnicity_AMERICAN INDIAN/ALASKA NATIVE FEDERALLY RECOGNIZED TRIBE  \\\n",
      "73                                               False                    \n",
      "45                                               False                    \n",
      "60                                               False                    \n",
      "42                                               False                    \n",
      "128                                              False                    \n",
      "\n",
      "     ethnicity_ASIAN  ethnicity_BLACK/AFRICAN AMERICAN  \\\n",
      "73             False                             False   \n",
      "45             False                             False   \n",
      "60             False                             False   \n",
      "42             False                             False   \n",
      "128            False                             False   \n",
      "\n",
      "     ethnicity_HISPANIC OR LATINO  ethnicity_HISPANIC/LATINO - PUERTO RICAN  \\\n",
      "73                          False                                     False   \n",
      "45                          False                                     False   \n",
      "60                          False                                     False   \n",
      "42                          False                                     False   \n",
      "128                         False                                     False   \n",
      "\n",
      "     ethnicity_OTHER  ethnicity_UNABLE TO OBTAIN  \\\n",
      "73             False                       False   \n",
      "45             False                       False   \n",
      "60             False                       False   \n",
      "42             False                       False   \n",
      "128            False                       False   \n",
      "\n",
      "     ethnicity_UNKNOWN/NOT SPECIFIED  ethnicity_WHITE  ethnicity_NON-WHITE  \n",
      "73                             False             True                    0  \n",
      "45                              True            False                    1  \n",
      "60                             False             True                    0  \n",
      "42                             False             True                    0  \n",
      "128                            False             True                    0  \n",
      "\n",
      "[5 rows x 21 columns]\n"
     ]
    }
   ],
   "source": [
    "display(Markdown(\"#### X_train Columns:\"))\n",
    "print(X_train.columns)\n",
    "\n",
    "display(Markdown(\"#### X_test:\"))\n",
    "print(X_test.head())"
   ]
  },
  {
   "cell_type": "markdown",
   "metadata": {},
   "source": [
    "Train a Machine Learning Model\n",
    "\n",
    "Train various models on the MIMIC-III data.\n"
   ]
  },
  {
   "cell_type": "code",
   "execution_count": 118,
   "metadata": {},
   "outputs": [],
   "source": [
    "def display_perform_metrics(y_test, y_pred, title=None):\n",
    "    accuracy = accuracy_score(y_test, y_pred)\n",
    "    display(Markdown(f'#### For {title} Model '))\n",
    "    print(f'Accuracy: {accuracy:.2f}')\n",
    "    display(Markdown(f'#### {title} Classification Report:'))\n",
    "    print(classification_report(y_test, y_pred))"
   ]
  },
  {
   "cell_type": "code",
   "execution_count": 119,
   "metadata": {},
   "outputs": [],
   "source": [
    "# Train and evaluate models\n",
    "def train_and_evaluate_models(X_train_scaled, y_train, X_test_scaled, y_test):\n",
    "    # Random Forest\n",
    "    model_rf = RandomForestClassifier(\n",
    "        max_depth=3, \n",
    "        min_samples_leaf= 3, \n",
    "        min_samples_split=3, \n",
    "        n_estimators=100, \n",
    "        random_state=42\n",
    "        )\n",
    "    model_rf.fit(X_train_scaled, y_train)\n",
    "    y_pred_rf = model_rf.predict(X_test_scaled)\n",
    "    display_perform_metrics(y_test, y_pred_rf, title='Random Forest')\n",
    "\n",
    "\n",
    "    # XGBoost\n",
    "    # Define the XGBoost parameters\n",
    "    model_xgb = xgb.XGBClassifier(\n",
    "        n_estimators=100,\n",
    "        gamma=0.1,\n",
    "        learning_rate=0.2,\n",
    "        max_depth=6,\n",
    "        min_child_weight=3,\n",
    "        eval_metric='logloss',\n",
    "        use_label_encoder=False,\n",
    "        random_state=42\n",
    "        )\n",
    "    model_xgb.fit(X_train_scaled, y_train)\n",
    "    y_pred_xgb = model_xgb.predict(X_test_scaled)\n",
    "    display_perform_metrics(y_test, y_pred_xgb, title= 'XGBoost')\n",
    "\n",
    "\n",
    "    # Voting Classifier\n",
    "    voting_clf = VotingClassifier(\n",
    "        estimators=[('rf', model_rf), \n",
    "                    ('xgb', model_xgb)], \n",
    "                    voting='soft'\n",
    "                    )\n",
    "    voting_clf.fit(X_train_scaled, y_train)\n",
    "    y_pred_voting = voting_clf.predict(X_test_scaled)\n",
    "    display_perform_metrics(y_test, y_pred_voting, title='Voting Classifier')\n",
    "\n",
    "\n",
    "    return model_rf, model_xgb, voting_clf, y_pred_rf, y_pred_xgb, y_pred_voting"
   ]
  },
  {
   "cell_type": "code",
   "execution_count": 120,
   "metadata": {},
   "outputs": [
    {
     "data": {
      "text/markdown": [
       "#### For Random Forest Model "
      ],
      "text/plain": [
       "<IPython.core.display.Markdown object>"
      ]
     },
     "metadata": {},
     "output_type": "display_data"
    },
    {
     "name": "stdout",
     "output_type": "stream",
     "text": [
      "Accuracy: 0.71\n"
     ]
    },
    {
     "data": {
      "text/markdown": [
       "#### Random Forest Classification Report:"
      ],
      "text/plain": [
       "<IPython.core.display.Markdown object>"
      ]
     },
     "metadata": {},
     "output_type": "display_data"
    },
    {
     "name": "stdout",
     "output_type": "stream",
     "text": [
      "              precision    recall  f1-score   support\n",
      "\n",
      "           0       0.00      0.00      0.00         8\n",
      "           1       0.71      1.00      0.83        20\n",
      "\n",
      "    accuracy                           0.71        28\n",
      "   macro avg       0.36      0.50      0.42        28\n",
      "weighted avg       0.51      0.71      0.60        28\n",
      "\n"
     ]
    },
    {
     "name": "stderr",
     "output_type": "stream",
     "text": [
      "d:\\Users\\BVaidya\\Anaconda3\\envs\\aigov_pytorch\\lib\\site-packages\\sklearn\\metrics\\_classification.py:1531: UndefinedMetricWarning: Precision is ill-defined and being set to 0.0 in labels with no predicted samples. Use `zero_division` parameter to control this behavior.\n",
      "  _warn_prf(average, modifier, f\"{metric.capitalize()} is\", len(result))\n",
      "d:\\Users\\BVaidya\\Anaconda3\\envs\\aigov_pytorch\\lib\\site-packages\\sklearn\\metrics\\_classification.py:1531: UndefinedMetricWarning: Precision is ill-defined and being set to 0.0 in labels with no predicted samples. Use `zero_division` parameter to control this behavior.\n",
      "  _warn_prf(average, modifier, f\"{metric.capitalize()} is\", len(result))\n",
      "d:\\Users\\BVaidya\\Anaconda3\\envs\\aigov_pytorch\\lib\\site-packages\\sklearn\\metrics\\_classification.py:1531: UndefinedMetricWarning: Precision is ill-defined and being set to 0.0 in labels with no predicted samples. Use `zero_division` parameter to control this behavior.\n",
      "  _warn_prf(average, modifier, f\"{metric.capitalize()} is\", len(result))\n",
      "d:\\Users\\BVaidya\\Anaconda3\\envs\\aigov_pytorch\\lib\\site-packages\\xgboost\\core.py:158: UserWarning: [20:11:55] WARNING: C:\\buildkite-agent\\builds\\buildkite-windows-cpu-autoscaling-group-i-0015a694724fa8361-1\\xgboost\\xgboost-ci-windows\\src\\learner.cc:740: \n",
      "Parameters: { \"use_label_encoder\" } are not used.\n",
      "\n",
      "  warnings.warn(smsg, UserWarning)\n"
     ]
    },
    {
     "data": {
      "text/markdown": [
       "#### For XGBoost Model "
      ],
      "text/plain": [
       "<IPython.core.display.Markdown object>"
      ]
     },
     "metadata": {},
     "output_type": "display_data"
    },
    {
     "name": "stdout",
     "output_type": "stream",
     "text": [
      "Accuracy: 0.71\n"
     ]
    },
    {
     "data": {
      "text/markdown": [
       "#### XGBoost Classification Report:"
      ],
      "text/plain": [
       "<IPython.core.display.Markdown object>"
      ]
     },
     "metadata": {},
     "output_type": "display_data"
    },
    {
     "name": "stdout",
     "output_type": "stream",
     "text": [
      "              precision    recall  f1-score   support\n",
      "\n",
      "           0       0.50      0.25      0.33         8\n",
      "           1       0.75      0.90      0.82        20\n",
      "\n",
      "    accuracy                           0.71        28\n",
      "   macro avg       0.62      0.57      0.58        28\n",
      "weighted avg       0.68      0.71      0.68        28\n",
      "\n"
     ]
    },
    {
     "name": "stderr",
     "output_type": "stream",
     "text": [
      "d:\\Users\\BVaidya\\Anaconda3\\envs\\aigov_pytorch\\lib\\site-packages\\xgboost\\core.py:158: UserWarning: [20:11:55] WARNING: C:\\buildkite-agent\\builds\\buildkite-windows-cpu-autoscaling-group-i-0015a694724fa8361-1\\xgboost\\xgboost-ci-windows\\src\\learner.cc:740: \n",
      "Parameters: { \"use_label_encoder\" } are not used.\n",
      "\n",
      "  warnings.warn(smsg, UserWarning)\n"
     ]
    },
    {
     "data": {
      "text/markdown": [
       "#### For Voting Classifier Model "
      ],
      "text/plain": [
       "<IPython.core.display.Markdown object>"
      ]
     },
     "metadata": {},
     "output_type": "display_data"
    },
    {
     "name": "stdout",
     "output_type": "stream",
     "text": [
      "Accuracy: 0.71\n"
     ]
    },
    {
     "data": {
      "text/markdown": [
       "#### Voting Classifier Classification Report:"
      ],
      "text/plain": [
       "<IPython.core.display.Markdown object>"
      ]
     },
     "metadata": {},
     "output_type": "display_data"
    },
    {
     "name": "stdout",
     "output_type": "stream",
     "text": [
      "              precision    recall  f1-score   support\n",
      "\n",
      "           0       0.00      0.00      0.00         8\n",
      "           1       0.71      1.00      0.83        20\n",
      "\n",
      "    accuracy                           0.71        28\n",
      "   macro avg       0.36      0.50      0.42        28\n",
      "weighted avg       0.51      0.71      0.60        28\n",
      "\n"
     ]
    },
    {
     "name": "stderr",
     "output_type": "stream",
     "text": [
      "d:\\Users\\BVaidya\\Anaconda3\\envs\\aigov_pytorch\\lib\\site-packages\\sklearn\\metrics\\_classification.py:1531: UndefinedMetricWarning: Precision is ill-defined and being set to 0.0 in labels with no predicted samples. Use `zero_division` parameter to control this behavior.\n",
      "  _warn_prf(average, modifier, f\"{metric.capitalize()} is\", len(result))\n",
      "d:\\Users\\BVaidya\\Anaconda3\\envs\\aigov_pytorch\\lib\\site-packages\\sklearn\\metrics\\_classification.py:1531: UndefinedMetricWarning: Precision is ill-defined and being set to 0.0 in labels with no predicted samples. Use `zero_division` parameter to control this behavior.\n",
      "  _warn_prf(average, modifier, f\"{metric.capitalize()} is\", len(result))\n",
      "d:\\Users\\BVaidya\\Anaconda3\\envs\\aigov_pytorch\\lib\\site-packages\\sklearn\\metrics\\_classification.py:1531: UndefinedMetricWarning: Precision is ill-defined and being set to 0.0 in labels with no predicted samples. Use `zero_division` parameter to control this behavior.\n",
      "  _warn_prf(average, modifier, f\"{metric.capitalize()} is\", len(result))\n"
     ]
    }
   ],
   "source": [
    "model_rf, model_xgb, voting_clf, y_pred_rf, y_pred_xgb, y_pred_voting = train_and_evaluate_models(X_train_scaled, y_train, X_test_scaled, y_test)"
   ]
  },
  {
   "cell_type": "markdown",
   "metadata": {},
   "source": [
    "Bias Detection with AI Fairness 360\n",
    "\n",
    "Now we can proceed to bias detection using AI Fairness 360 based on sensitive attributes like gender and ethnicity."
   ]
  },
  {
   "cell_type": "code",
   "execution_count": 89,
   "metadata": {},
   "outputs": [],
   "source": [
    "\"\"\"\n",
    "Evaluates bias in the dataset based on ethnicity by calculating the difference in mean outcomes \n",
    "between privileged and unprivileged groups.\n",
    "\"\"\"\n",
    "def evaluate_ethnicity_bias(X, y, privileged_ethnicity='ethnicity_WHITE', unprivileged_ethnicity='ethnicity_NON-WHITE'):\n",
    "    \n",
    "    # Combine the feature set and target variable into a single DataFrame\n",
    "    X_bin = X.copy()\n",
    "    X_bin['survival'] = y.values\n",
    "    \n",
    "    # Create a BinaryLabelDataset for bias analysis\n",
    "    binary_dataset = BinaryLabelDataset(df=X_bin, label_names=['survival'], \n",
    "                                        protected_attribute_names=[privileged_ethnicity, unprivileged_ethnicity])\n",
    "    \n",
    "    # Define privileged and unprivileged groups\n",
    "    privileged_groups_ethnicity = [{privileged_ethnicity: 1}]\n",
    "    unprivileged_groups_ethnicity = [{unprivileged_ethnicity: 1}]\n",
    "    \n",
    "    # Calculate and return the difference in mean outcomes between the groups\n",
    "    metric = BinaryLabelDatasetMetric(binary_dataset, \n",
    "                                      privileged_groups=privileged_groups_ethnicity, \n",
    "                                      unprivileged_groups=unprivileged_groups_ethnicity)\n",
    "    \n",
    "    mean_difference = metric.mean_difference()\n",
    "    print(f\"Difference in mean outcomes between unprivileged and privileged groups: {mean_difference:.3f}\")\n",
    "    \n",
    "    return mean_difference"
   ]
  },
  {
   "cell_type": "code",
   "execution_count": 91,
   "metadata": {},
   "outputs": [
    {
     "name": "stdout",
     "output_type": "stream",
     "text": [
      "Difference in mean outcomes between unprivileged and privileged groups: -0.023\n"
     ]
    }
   ],
   "source": [
    "mean_diff = evaluate_ethnicity_bias(X_train, y_train)"
   ]
  },
  {
   "cell_type": "code",
   "execution_count": 101,
   "metadata": {},
   "outputs": [],
   "source": [
    "# Perform bias detection for a specific ethnicity comparison\n",
    "def perform_bias_detection_by_ethnicity(X_test, y_test, y_pred):\n",
    "\n",
    "    # Select ethnicity columns\n",
    "    privileged_ethnicity = 'ethnicity_WHITE'\n",
    "    unprivileged_ethnicity = 'ethnicity_NON-WHITE'\n",
    "\n",
    "    X_test_bin = X_test.copy()\n",
    "    X_test_bin['survival'] = y_test.values\n",
    "    binary_test = BinaryLabelDataset(df=X_test_bin, label_names=['survival'], protected_attribute_names=[privileged_ethnicity, unprivileged_ethnicity])\n",
    "    \n",
    "    # Define privileged and unprivileged groups\n",
    "    privileged_groups = [{privileged_ethnicity: 1}]\n",
    "    unprivileged_groups = [{unprivileged_ethnicity: 1}]\n",
    "\n",
    "    # BinaryLabelDatasetMetric\n",
    "    metric = BinaryLabelDatasetMetric(binary_test, privileged_groups=privileged_groups, unprivileged_groups=unprivileged_groups)\n",
    "\n",
    "    # Calculate Disparate Impact\n",
    "    disparate_impact = metric.disparate_impact()\n",
    "\n",
    "    # Print results \n",
    "    display(Markdown(\"#### Ethnicity Bias Analysis: \"))\n",
    "    print(f'Disparate Impact: {disparate_impact:.3f}')\n",
    "\n",
    "    # Bias Detection Thresholds and Reporting\n",
    "    if disparate_impact < 0.8:\n",
    "        display(Markdown(\"  Significant bias detected: The model is under-predicting positive outcomes for the unprivileged group (Non-White).\"))\n",
    "    elif disparate_impact > 1.25:\n",
    "        display(Markdown(\"  Significant bias detected: The model is over-predicting positive outcomes for the privileged group (White).\"))\n",
    "    else:\n",
    "        display(Markdown(\"  No significant bias detected: The model predictions are balanced with respect to ethnicity.\"))\n",
    "        \n",
    "\n",
    "    # ClassificationMetric\n",
    "    X_test_pred = X_test.copy()\n",
    "    X_test_pred['survival'] = y_pred\n",
    "    binary_test_pred = BinaryLabelDataset(df=X_test_pred, label_names=['survival'], protected_attribute_names=[privileged_ethnicity, unprivileged_ethnicity])\n",
    "    \n",
    "    metric_class = ClassificationMetric(binary_test, binary_test_pred, privileged_groups=privileged_groups, unprivileged_groups=unprivileged_groups)\n",
    "    fairness_metrics = {\n",
    "        \"Demographic Parity Difference\": metric_class.statistical_parity_difference(),\n",
    "        \"Equal Opportunity Difference\": metric_class.equal_opportunity_difference(),\n",
    "        \"Average Odds Difference\": metric_class.average_odds_difference(),\n",
    "        \"Disparate Impact\": metric_class.disparate_impact(),\n",
    "        \"Theil Index\": metric_class.theil_index()\n",
    "    }\n",
    "    \n",
    "    display(Markdown(\"#### Fairness Metrics by Ethnicity:\"))\n",
    "    for key, value in fairness_metrics.items():\n",
    "        print(f\"{key}: {value:.3f}\")\n",
    "    \n",
    "    return fairness_metrics"
   ]
  },
  {
   "cell_type": "code",
   "execution_count": 132,
   "metadata": {},
   "outputs": [
    {
     "data": {
      "text/markdown": [
       "### Ethnicity Bias Analysis - "
      ],
      "text/plain": [
       "<IPython.core.display.Markdown object>"
      ]
     },
     "metadata": {},
     "output_type": "display_data"
    },
    {
     "name": "stdout",
     "output_type": "stream",
     "text": [
      "Disparate Impact: 0.917\n"
     ]
    },
    {
     "data": {
      "text/markdown": [
       "  No significant bias detected: The model predictions are balanced with respect to ethnicity."
      ],
      "text/plain": [
       "<IPython.core.display.Markdown object>"
      ]
     },
     "metadata": {},
     "output_type": "display_data"
    },
    {
     "data": {
      "text/markdown": [
       "### Fairness Metrics by Ethnicity:"
      ],
      "text/plain": [
       "<IPython.core.display.Markdown object>"
      ]
     },
     "metadata": {},
     "output_type": "display_data"
    },
    {
     "name": "stdout",
     "output_type": "stream",
     "text": [
      "Demographic Parity Difference: -0.030\n",
      "Equal Opportunity Difference: 0.125\n",
      "Average Odds Difference: -0.104\n",
      "Disparate Impact: 0.965\n",
      "Theil Index: 0.126\n"
     ]
    }
   ],
   "source": [
    "fairness_metrics_org = perform_bias_detection_by_ethnicity(X_test, y_test, y_pred_xgb)"
   ]
  },
  {
   "cell_type": "code",
   "execution_count": 103,
   "metadata": {},
   "outputs": [],
   "source": [
    "# Plot fairness metrics\n",
    "def plot_fairness_metrics(fairness_metrics):\n",
    "    metrics = list(fairness_metrics.keys())\n",
    "    values = list(fairness_metrics.values())\n",
    "    \n",
    "    fig, axs = plt.subplots(2, 3, figsize=(15, 10))\n",
    "    fig.suptitle('Fairness Metrics by Ethnicity')\n",
    "\n",
    "    axs[0, 0].bar(metrics[0], values[0], color='blue')\n",
    "    axs[0, 0].set_ylim(-1, 1)\n",
    "    axs[0, 0].axhline(y=0.0, color='r', linestyle='--')\n",
    "    axs[0, 0].set_title(metrics[0])\n",
    "\n",
    "    axs[0, 1].bar(metrics[1], values[1], color='orange')\n",
    "    axs[0, 1].set_ylim(-1, 1)\n",
    "    axs[0, 1].axhline(y=0.0, color='r', linestyle='--')\n",
    "    axs[0, 1].set_title(metrics[1])\n",
    "\n",
    "    axs[0, 2].bar(metrics[2], values[2], color='green')\n",
    "    axs[0, 2].set_ylim(-1, 1)\n",
    "    axs[0, 2].axhline(y=0.0, color='r', linestyle='--')\n",
    "    axs[0, 2].set_title(metrics[2])\n",
    "\n",
    "    axs[1, 0].bar(metrics[3], values[3], color='purple')\n",
    "    axs[1, 0].set_ylim(0, 2)\n",
    "    axs[1, 0].axhline(y=1.0, color='r', linestyle='--')\n",
    "    axs[1, 0].set_title(metrics[3])\n",
    "\n",
    "    axs[1, 1].bar(metrics[4], values[4], color='red')\n",
    "    axs[1, 1].set_ylim(0, 1)\n",
    "    axs[1, 1].axhline(y=0.0, color='r', linestyle='--')\n",
    "    axs[1, 1].set_title(metrics[4])\n",
    "\n",
    "    fig.delaxes(axs[1, 2])  \n",
    "    plt.tight_layout()\n",
    "    plt.show()\n",
    "\n",
    "# Plot confusion matrices by ethnicity\n",
    "def plot_confusion_matrices_by_ethnicity(y_true, y_pred, ethnicity_white, ethnicity_nonwhite):\n",
    "\n",
    "    # Confusion matrix for White ethnicity\n",
    "    cm_white = confusion_matrix(y_true[ethnicity_white == 1], y_pred[ethnicity_white == 1])\n",
    "    \n",
    "    # Confusion matrix for Non-White ethnicity\n",
    "    cm_nonwhite = confusion_matrix(y_true[ethnicity_nonwhite == 1], y_pred[ethnicity_nonwhite == 1])\n",
    "\n",
    "    fig, axs = plt.subplots(1, 2, figsize=(12, 6))\n",
    "    fig.suptitle('Confusion Matrices by Ethnicity')\n",
    "\n",
    "    # Confusion matrix for White\n",
    "    axs[0].imshow(cm_white, interpolation='nearest', cmap=plt.cm.Blues)\n",
    "    axs[0].set_title('White')\n",
    "    axs[0].set_xticks([0, 1])\n",
    "    axs[0].set_yticks([0, 1])\n",
    "    axs[0].set_xticklabels(['Negative', 'Positive'])\n",
    "    axs[0].set_yticklabels(['Negative', 'Positive'])\n",
    "    for i, j in np.ndindex(cm_white.shape):\n",
    "        axs[0].text(j, i, format(cm_white[i, j], 'd'),\n",
    "                    horizontalalignment=\"center\",\n",
    "                    color=\"white\" if cm_white[i, j] > cm_white.max() / 2. else \"black\")\n",
    "    \n",
    "    # Confusion matrix for Non-White\n",
    "    axs[1].imshow(cm_nonwhite, interpolation='nearest', cmap=plt.cm.Blues)\n",
    "    axs[1].set_title('Non-White')\n",
    "    axs[1].set_xticks([0, 1])\n",
    "    axs[1].set_yticks([0, 1])\n",
    "    axs[1].set_xticklabels(['Negative', 'Positive'])\n",
    "    axs[1].set_yticklabels(['Negative', 'Positive'])\n",
    "    for i, j in np.ndindex(cm_nonwhite.shape):\n",
    "        axs[1].text(j, i, format(cm_nonwhite[i, j], 'd'),\n",
    "                    horizontalalignment=\"center\",\n",
    "                    color=\"white\" if cm_nonwhite[i, j] > cm_nonwhite.max() / 2. else \"black\")\n",
    "    \n",
    "    plt.tight_layout()\n",
    "    plt.show()"
   ]
  },
  {
   "cell_type": "code",
   "execution_count": 133,
   "metadata": {},
   "outputs": [
    {
     "data": {
      "image/png": "[encoded data removed]",
      "text/plain": [
       "<Figure size 1500x1000 with 5 Axes>"
      ]
     },
     "metadata": {},
     "output_type": "display_data"
    }
   ],
   "source": [
    "# Plot fairness metrics\n",
    "plot_fairness_metrics(fairness_metrics_org)"
   ]
  },
  {
   "cell_type": "code",
   "execution_count": 105,
   "metadata": {},
   "outputs": [
    {
     "data": {
      "image/png": "[encoded data removed]",
      "text/plain": [
       "<Figure size 1200x600 with 2 Axes>"
      ]
     },
     "metadata": {},
     "output_type": "display_data"
    }
   ],
   "source": [
    "# Plot confusion matrices for specific ethnicity\n",
    "plot_confusion_matrices_by_ethnicity(y_test.values, y_pred_xgb, X_test['ethnicity_WHITE'], X_test['ethnicity_NON-WHITE'])"
   ]
  },
  {
   "cell_type": "markdown",
   "metadata": {},
   "source": [
    "Bias Mitigation using Reweighing\n",
    "\n",
    "We'll apply the Reweighing technique to mitigate bias and retrain the model."
   ]
  },
  {
   "cell_type": "code",
   "execution_count": 106,
   "metadata": {},
   "outputs": [],
   "source": [
    "# Apply reweighing considering ethnicity\n",
    "def apply_reweighing(X_train, y_train):\n",
    "\n",
    "    # Select ethnicity columns\n",
    "    privileged_ethnicity = 'ethnicity_WHITE'\n",
    "    unprivileged_ethnicity = 'ethnicity_NON-WHITE'\n",
    "\n",
    "    # Define privileged and unprivileged groups\n",
    "    privileged_ethnicity_groups = [{privileged_ethnicity: 1}]\n",
    "    unprivileged_ethnicity_groups = [{unprivileged_ethnicity: 1}]\n",
    "    \n",
    "    binary_train = BinaryLabelDataset(df=pd.concat([X_train, y_train], axis=1), label_names=['survival'], protected_attribute_names=[privileged_ethnicity, unprivileged_ethnicity])\n",
    "    reweighing = Reweighing(unprivileged_groups=unprivileged_ethnicity_groups, privileged_groups=privileged_ethnicity_groups)\n",
    "    binary_train_reweighed = reweighing.fit_transform(binary_train)\n",
    "    \n",
    "    return binary_train_reweighed.instance_weights\n"
   ]
  },
  {
   "cell_type": "code",
   "execution_count": 107,
   "metadata": {},
   "outputs": [],
   "source": [
    "# Apply reweighing to mitigate bias\n",
    "instance_weights = apply_reweighing(X_train, y_train)"
   ]
  },
  {
   "cell_type": "code",
   "execution_count": 128,
   "metadata": {},
   "outputs": [],
   "source": [
    "# Train and evaluate models applying bias mitigation algorithm\n",
    "def train_and_evaluate_models_bias_mitigate(X_train_scaled, y_train, X_test_scaled, y_test, instance_weights=None):\n",
    "    # Random Forest\n",
    "    model_rf = RandomForestClassifier(\n",
    "        max_depth=3, \n",
    "        min_samples_leaf= 3, \n",
    "        min_samples_split=3, \n",
    "        n_estimators=100, \n",
    "        random_state=42\n",
    "        )\n",
    "    model_rf.fit(X_train_scaled, y_train, sample_weight=instance_weights)\n",
    "    y_pred_rf = model_rf.predict(X_test_scaled)\n",
    "    display(Markdown(\"### With Bias Mitigation\"))\n",
    "    display_perform_metrics(y_test, y_pred_rf, title='Random Forest')\n",
    "\n",
    "    # XGBoost\n",
    "    # Define the XGBoost parameters\n",
    "    model_xgb = xgb.XGBClassifier(\n",
    "        n_estimators=200,\n",
    "        gamma=0.1,\n",
    "        learning_rate=0.2,\n",
    "        max_depth=6,\n",
    "        min_child_weight=3,\n",
    "        eval_metric='logloss',\n",
    "        use_label_encoder=False,\n",
    "        random_state=42\n",
    "        )\n",
    "    model_xgb.fit(X_train_scaled, y_train, sample_weight=instance_weights)\n",
    "    y_pred_xgb = model_xgb.predict(X_test_scaled)\n",
    "    display_perform_metrics(y_test, y_pred_xgb, title= 'XGBoost')\n",
    "\n",
    "    # Voting Classifier\n",
    "    voting_clf = VotingClassifier(\n",
    "        estimators=[('rf', model_rf), \n",
    "                    ('xgb', model_xgb)], \n",
    "                    voting='soft'\n",
    "                    )\n",
    "    voting_clf.fit(X_train_scaled, y_train, sample_weight=instance_weights)\n",
    "    y_pred_voting = voting_clf.predict(X_test_scaled)\n",
    "    display_perform_metrics(y_test, y_pred_voting, title='Voting Classifier')\n",
    "\n",
    "    return model_rf, model_xgb, voting_clf, y_pred_rf, y_pred_xgb, y_pred_voting"
   ]
  },
  {
   "cell_type": "code",
   "execution_count": 129,
   "metadata": {},
   "outputs": [
    {
     "data": {
      "text/markdown": [
       "### With Bias Mitigation"
      ],
      "text/plain": [
       "<IPython.core.display.Markdown object>"
      ]
     },
     "metadata": {},
     "output_type": "display_data"
    },
    {
     "data": {
      "text/markdown": [
       "#### For Random Forest Model "
      ],
      "text/plain": [
       "<IPython.core.display.Markdown object>"
      ]
     },
     "metadata": {},
     "output_type": "display_data"
    },
    {
     "name": "stdout",
     "output_type": "stream",
     "text": [
      "Accuracy: 0.71\n"
     ]
    },
    {
     "data": {
      "text/markdown": [
       "#### Random Forest Classification Report:"
      ],
      "text/plain": [
       "<IPython.core.display.Markdown object>"
      ]
     },
     "metadata": {},
     "output_type": "display_data"
    },
    {
     "name": "stdout",
     "output_type": "stream",
     "text": [
      "              precision    recall  f1-score   support\n",
      "\n",
      "           0       0.00      0.00      0.00         8\n",
      "           1       0.71      1.00      0.83        20\n",
      "\n",
      "    accuracy                           0.71        28\n",
      "   macro avg       0.36      0.50      0.42        28\n",
      "weighted avg       0.51      0.71      0.60        28\n",
      "\n"
     ]
    },
    {
     "name": "stderr",
     "output_type": "stream",
     "text": [
      "d:\\Users\\BVaidya\\Anaconda3\\envs\\aigov_pytorch\\lib\\site-packages\\sklearn\\metrics\\_classification.py:1531: UndefinedMetricWarning: Precision is ill-defined and being set to 0.0 in labels with no predicted samples. Use `zero_division` parameter to control this behavior.\n",
      "  _warn_prf(average, modifier, f\"{metric.capitalize()} is\", len(result))\n",
      "d:\\Users\\BVaidya\\Anaconda3\\envs\\aigov_pytorch\\lib\\site-packages\\sklearn\\metrics\\_classification.py:1531: UndefinedMetricWarning: Precision is ill-defined and being set to 0.0 in labels with no predicted samples. Use `zero_division` parameter to control this behavior.\n",
      "  _warn_prf(average, modifier, f\"{metric.capitalize()} is\", len(result))\n",
      "d:\\Users\\BVaidya\\Anaconda3\\envs\\aigov_pytorch\\lib\\site-packages\\sklearn\\metrics\\_classification.py:1531: UndefinedMetricWarning: Precision is ill-defined and being set to 0.0 in labels with no predicted samples. Use `zero_division` parameter to control this behavior.\n",
      "  _warn_prf(average, modifier, f\"{metric.capitalize()} is\", len(result))\n",
      "d:\\Users\\BVaidya\\Anaconda3\\envs\\aigov_pytorch\\lib\\site-packages\\xgboost\\core.py:158: UserWarning: [20:22:11] WARNING: C:\\buildkite-agent\\builds\\buildkite-windows-cpu-autoscaling-group-i-0015a694724fa8361-1\\xgboost\\xgboost-ci-windows\\src\\learner.cc:740: \n",
      "Parameters: { \"use_label_encoder\" } are not used.\n",
      "\n",
      "  warnings.warn(smsg, UserWarning)\n"
     ]
    },
    {
     "data": {
      "text/markdown": [
       "#### For XGBoost Model "
      ],
      "text/plain": [
       "<IPython.core.display.Markdown object>"
      ]
     },
     "metadata": {},
     "output_type": "display_data"
    },
    {
     "name": "stdout",
     "output_type": "stream",
     "text": [
      "Accuracy: 0.68\n"
     ]
    },
    {
     "data": {
      "text/markdown": [
       "#### XGBoost Classification Report:"
      ],
      "text/plain": [
       "<IPython.core.display.Markdown object>"
      ]
     },
     "metadata": {},
     "output_type": "display_data"
    },
    {
     "name": "stdout",
     "output_type": "stream",
     "text": [
      "              precision    recall  f1-score   support\n",
      "\n",
      "           0       0.40      0.25      0.31         8\n",
      "           1       0.74      0.85      0.79        20\n",
      "\n",
      "    accuracy                           0.68        28\n",
      "   macro avg       0.57      0.55      0.55        28\n",
      "weighted avg       0.64      0.68      0.65        28\n",
      "\n"
     ]
    },
    {
     "name": "stderr",
     "output_type": "stream",
     "text": [
      "d:\\Users\\BVaidya\\Anaconda3\\envs\\aigov_pytorch\\lib\\site-packages\\xgboost\\core.py:158: UserWarning: [20:22:12] WARNING: C:\\buildkite-agent\\builds\\buildkite-windows-cpu-autoscaling-group-i-0015a694724fa8361-1\\xgboost\\xgboost-ci-windows\\src\\learner.cc:740: \n",
      "Parameters: { \"use_label_encoder\" } are not used.\n",
      "\n",
      "  warnings.warn(smsg, UserWarning)\n"
     ]
    },
    {
     "data": {
      "text/markdown": [
       "#### For Voting Classifier Model "
      ],
      "text/plain": [
       "<IPython.core.display.Markdown object>"
      ]
     },
     "metadata": {},
     "output_type": "display_data"
    },
    {
     "name": "stdout",
     "output_type": "stream",
     "text": [
      "Accuracy: 0.68\n"
     ]
    },
    {
     "data": {
      "text/markdown": [
       "#### Voting Classifier Classification Report:"
      ],
      "text/plain": [
       "<IPython.core.display.Markdown object>"
      ]
     },
     "metadata": {},
     "output_type": "display_data"
    },
    {
     "name": "stdout",
     "output_type": "stream",
     "text": [
      "              precision    recall  f1-score   support\n",
      "\n",
      "           0       0.00      0.00      0.00         8\n",
      "           1       0.70      0.95      0.81        20\n",
      "\n",
      "    accuracy                           0.68        28\n",
      "   macro avg       0.35      0.47      0.40        28\n",
      "weighted avg       0.50      0.68      0.58        28\n",
      "\n"
     ]
    }
   ],
   "source": [
    "# Train and evaluate models with reweighed data\n",
    "model_rf_bm, model_xgb_bm, voting_clf_bm, y_pred_rf_bm, y_pred_xgb_bm, _ = train_and_evaluate_models_bias_mitigate(X_train_scaled, y_train, X_test_scaled, y_test, instance_weights)"
   ]
  },
  {
   "cell_type": "code",
   "execution_count": 130,
   "metadata": {},
   "outputs": [
    {
     "data": {
      "text/markdown": [
       "### Ethnicity Bias Analysis - "
      ],
      "text/plain": [
       "<IPython.core.display.Markdown object>"
      ]
     },
     "metadata": {},
     "output_type": "display_data"
    },
    {
     "name": "stdout",
     "output_type": "stream",
     "text": [
      "Disparate Impact: 0.917\n"
     ]
    },
    {
     "data": {
      "text/markdown": [
       "  No significant bias detected: The model predictions are balanced with respect to ethnicity."
      ],
      "text/plain": [
       "<IPython.core.display.Markdown object>"
      ]
     },
     "metadata": {},
     "output_type": "display_data"
    },
    {
     "data": {
      "text/markdown": [
       "### Fairness Metrics by Ethnicity:"
      ],
      "text/plain": [
       "<IPython.core.display.Markdown object>"
      ]
     },
     "metadata": {},
     "output_type": "display_data"
    },
    {
     "name": "stdout",
     "output_type": "stream",
     "text": [
      "Demographic Parity Difference: 0.015\n",
      "Equal Opportunity Difference: 0.188\n",
      "Average Odds Difference: -0.073\n",
      "Disparate Impact: 1.019\n",
      "Theil Index: 0.167\n"
     ]
    }
   ],
   "source": [
    "# Perform bias detection and evaluate fairness metrics\n",
    "fairness_metrics_bm = perform_bias_detection_by_ethnicity(X_test, y_test, y_pred_xgb_bm)"
   ]
  },
  {
   "cell_type": "code",
   "execution_count": 131,
   "metadata": {},
   "outputs": [],
   "source": [
    "# Plot comparative fairness metrics\n",
    "def plot_comparative_fairness_metrics(fairness_metrics, fairness_metrics_bm):\n",
    "    metrics = list(fairness_metrics.keys())\n",
    "    values = list(fairness_metrics.values())\n",
    "    values_bm = list(fairness_metrics_bm.values())\n",
    "\n",
    "    groups = ['Original', 'Mitigated']\n",
    "    \n",
    "    fig, axs = plt.subplots(2, 3, figsize=(15, 10))\n",
    "    fig.suptitle('Comparative Fairness Metrics')\n",
    "\n",
    "    axs[0, 0].bar(groups, [values[0],values_bm[0]], color=['blue', 'orange'])\n",
    "    axs[0, 0].set_ylim(-1, 1)\n",
    "    axs[0, 0].axhline(y=0.0, color='r', linestyle='--')\n",
    "    axs[0, 0].set_title(metrics[0])\n",
    "\n",
    "    axs[0, 1].bar(groups, [values[1],values_bm[1]], color=['blue', 'orange'])\n",
    "    axs[0, 1].set_ylim(-1, 1)\n",
    "    axs[0, 1].axhline(y=0.0, color='r', linestyle='--')\n",
    "    axs[0, 1].set_title(metrics[1])\n",
    "\n",
    "    axs[0, 2].bar(groups, [values[2],values_bm[2]], color=['blue', 'orange'])\n",
    "    axs[0, 2].set_ylim(-1, 1)\n",
    "    axs[0, 2].axhline(y=0.0, color='r', linestyle='--')\n",
    "    axs[0, 2].set_title(metrics[2])\n",
    "\n",
    "    axs[1, 0].bar(groups, [values[3],values_bm[3]], color=['blue', 'orange'])\n",
    "    axs[1, 0].set_ylim(0, 2)\n",
    "    axs[1, 0].axhline(y=1.0, color='r', linestyle='--')\n",
    "    axs[1, 0].set_title(metrics[3])\n",
    "\n",
    "    axs[1, 1].bar(groups, [values[4],values_bm[4]], color=['blue', 'orange'])\n",
    "    axs[1, 1].set_ylim(0, 1)\n",
    "    axs[1, 1].axhline(y=0.0, color='r', linestyle='--')\n",
    "    axs[1, 1].set_title(metrics[4])\n",
    "\n",
    "    fig.delaxes(axs[1, 2])  \n",
    "    plt.tight_layout()\n",
    "    plt.show()"
   ]
  },
  {
   "cell_type": "code",
   "execution_count": 134,
   "metadata": {},
   "outputs": [
    {
     "data": {
      "image/png": "[encoded data removed]",
      "text/plain": [
       "<Figure size 1500x1000 with 5 Axes>"
      ]
     },
     "metadata": {},
     "output_type": "display_data"
    }
   ],
   "source": [
    "plot_comparative_fairness_metrics(fairness_metrics_org, fairness_metrics_bm)"
   ]
  },
  {
   "cell_type": "code",
   "execution_count": 135,
   "metadata": {},
   "outputs": [
    {
     "data": {
      "image/png": "[encoded data removed]",
      "text/plain": [
       "<Figure size 1200x600 with 2 Axes>"
      ]
     },
     "metadata": {},
     "output_type": "display_data"
    }
   ],
   "source": [
    "# Plot confusion matrices\n",
    "\n",
    "plot_confusion_matrices_by_ethnicity(y_test.values, y_pred_xgb_bm, X_test['ethnicity_WHITE'], X_test['ethnicity_NON-WHITE'])"
   ]
  }
 ],
 "metadata": {
  "kernelspec": {
   "display_name": "aigov_pytorch",
   "language": "python",
   "name": "python3"
  },
  "language_info": {
   "codemirror_mode": {
    "name": "ipython",
    "version": 3
   },
   "file_extension": ".py",
   "mimetype": "text/x-python",
   "name": "python",
   "nbconvert_exporter": "python",
   "pygments_lexer": "ipython3",
   "version": "3.9.19"
  }
 },
 "nbformat": 4,
 "nbformat_minor": 2
}
